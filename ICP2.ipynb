{
  "nbformat": 4,
  "nbformat_minor": 0,
  "metadata": {
    "colab": {
      "provenance": [],
      "toc_visible": true,
      "authorship_tag": "ABX9TyP0sVOxDge+xY+FbjAG2+zu",
      "include_colab_link": true
    },
    "kernelspec": {
      "name": "python3",
      "display_name": "Python 3"
    },
    "language_info": {
      "name": "python"
    }
  },
  "cells": [
    {
      "cell_type": "markdown",
      "metadata": {
        "id": "view-in-github",
        "colab_type": "text"
      },
      "source": [
        "<a href=\"https://colab.research.google.com/github/prashanthdhanasri/icp1/blob/main/ICP2.ipynb\" target=\"_parent\"><img src=\"https://colab.research.google.com/assets/colab-badge.svg\" alt=\"Open In Colab\"/></a>"
      ]
    },
    {
      "cell_type": "markdown",
      "source": [
        "# Employee and Fulltime Employee Class"
      ],
      "metadata": {
        "id": "YxYA_VuxUcHS"
      }
    },
    {
      "cell_type": "code",
      "execution_count": 1,
      "metadata": {
        "colab": {
          "base_uri": "https://localhost:8080/"
        },
        "id": "pw6K932kTFbM",
        "outputId": "746f6ee0-d9bf-4394-dbf9-e171e22108cd"
      },
      "outputs": [
        {
          "output_type": "stream",
          "name": "stdout",
          "text": [
            "Average salary: 148750.0\n"
          ]
        }
      ],
      "source": [
        "\n",
        "class Employee:\n",
        "\n",
        "\n",
        "    # data member to count the number of Employees\n",
        "    no_of_employees = 0\n",
        "\n",
        "  #Create a constructor to initialize name, family, salary, department\n",
        "    def __init__(self, name, family_name, salary, department):\n",
        "        self.__name = name\n",
        "        self.__family_name = family_name\n",
        "        self.salary = salary\n",
        "        self.__department = department\n",
        "        Employee.no_of_employees += 1\n",
        "\n",
        "  # Create a function to average salary\n",
        "    @staticmethod\n",
        "    def average_salary(employees):\n",
        "        sum = 0\n",
        "        for employee in employees:\n",
        "            sum += employee.salary\n",
        "        return sum / Employee.no_of_employees\n",
        "\n",
        " # Create a Fulltime Employee class and it should inherit the properties of Employee class\n",
        "class FulltimeEmployee(Employee):\n",
        "\n",
        "    def __init__(self, name, family_name, salary, department):\n",
        "        super().__init__(name, family_name, salary, department)\n",
        "\n",
        "\n",
        "def main():\n",
        "    employees = []\n",
        "    fte1 = FulltimeEmployee(\"Employee1\", \"FamilyName1\", 120000, \"Management\")\n",
        "    employees.append(fte1)\n",
        "    fte2 = FulltimeEmployee(\"Employee2\", \"FamilyName2\", 180000, \"RnD\")\n",
        "    employees.append(fte2)\n",
        "    emp1 = Employee(\"Employee3\", \"FamilyName3\", 160000, \"Marketing\")\n",
        "    employees.append(emp1)\n",
        "    emp2 = Employee(\"Employee4\", \"FamilyName4\", 135000, \"HR\")\n",
        "    employees.append(emp2)\n",
        "    print(\"Average salary:\", FulltimeEmployee.average_salary(employees))\n",
        "\n",
        "\n",
        "if __name__ == \"__main__\":\n",
        "    main()\n"
      ]
    },
    {
      "cell_type": "markdown",
      "source": [
        "# Numpy vector operations"
      ],
      "metadata": {
        "id": "_SFg1BUXUsOd"
      }
    },
    {
      "cell_type": "code",
      "source": [
        "import numpy as np\n",
        "\n",
        "\n",
        "def replace_maxmium(array, replace_value, axis):\n",
        "    \"\"\" choose from x or y depending on condition: np.where(condition, x, y) \"\"\"\n",
        "    output = np.where(array == np.max(\n",
        "        array, axis=1).reshape(-1, 1), 0 * array, array)\n",
        "    print(output)\n",
        "\n",
        "\n",
        "def main():\n",
        "\n",
        "    # Using NumPy create random vector of size 20 having only float\n",
        "    # in the range 1-20.\n",
        "\n",
        "    # continuous uniform distribution in [0, 1).\n",
        "    # To sample Unif[a, b): (b - a) * random_sample() + a\n",
        "    random20 = np.random.random_sample(20) * 20 + 1\n",
        "    print(random20)\n",
        "\n",
        "    # Reshape the array to 4 by 5\n",
        "    random20_4by5 = random20.reshape((4, 5))\n",
        "    print(random20_4by5)\n",
        "\n",
        "    # Replace the max in each row by 0(axis=1)\n",
        "    replace_maxmium(random20_4by5, 0, 1)\n",
        "\n",
        "\n",
        "if __name__ == \"__main__\":\n",
        "    main()\n"
      ],
      "metadata": {
        "id": "prnnYTcqUUI4"
      },
      "execution_count": null,
      "outputs": []
    }
  ]
}