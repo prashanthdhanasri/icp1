{
  "nbformat": 4,
  "nbformat_minor": 0,
  "metadata": {
    "colab": {
      "provenance": []
    },
    "kernelspec": {
      "name": "python3",
      "display_name": "Python 3"
    },
    "language_info": {
      "name": "python"
    }
  },
  "cells": [
    {
      "cell_type": "code",
      "execution_count": 11,
      "metadata": {
        "colab": {
          "base_uri": "https://localhost:8080/"
        },
        "id": "qHuBs3mdAa1u",
        "outputId": "d3e9b0d4-de01-4c2b-de01-f8717ec2d674"
      },
      "outputs": [
        {
          "output_type": "stream",
          "name": "stdout",
          "text": [
            "Full name: Prashanth Dhanasri\n",
            "Every other character in the full name: PahnhDaar\n"
          ]
        }
      ],
      "source": [
        "def fullname(first_name, last_name):\n",
        "    \"\"\"\n",
        "    Concatenates first_name and last_name to form the full name.\n",
        "\n",
        "    Args:\n",
        "    first_name (str): The first name.\n",
        "    last_name (str): The last name.\n",
        "\n",
        "    Returns:\n",
        "    str: The full name.\n",
        "    \"\"\"\n",
        "    return f\"{first_name} {last_name}\"\n",
        "\n",
        "def string_alternative(full_name):\n",
        "    \"\"\"\n",
        "    Returns every other character from the full_name string.\n",
        "\n",
        "    Args:\n",
        "    full_name (str): The full name string.\n",
        "\n",
        "    Returns:\n",
        "    str: Every other character from the full name.\n",
        "    \"\"\"\n",
        "    return full_name[::2]\n",
        "\n",
        "def main():\n",
        "    \"\"\"\n",
        "    Main function to handle user input and display the results.\n",
        "    \"\"\"\n",
        "    # Hardcoding user input for demonstration purposes\n",
        "    first_name = \"Prashanth\"\n",
        "    last_name = \"Dhanasri\"\n",
        "\n",
        "    # Get full name\n",
        "    full_name = fullname(first_name, last_name)\n",
        "    print(f\"Full name: {full_name}\")\n",
        "\n",
        "    # Get alternative string\n",
        "    alternative_string = string_alternative(full_name)\n",
        "    print(f\"Every other character in the full name: {alternative_string}\")\n",
        "\n",
        "# Execute the main function\n",
        "if __name__ == \"__main__\":\n",
        "    main()"
      ]
    },
    {
      "cell_type": "code",
      "source": [],
      "metadata": {
        "id": "XRM6f2B0MWRi"
      },
      "execution_count": null,
      "outputs": []
    },
    {
      "cell_type": "code",
      "source": [
        "from collections import Counter\n",
        "\n",
        "def count_words_in_file(input_file, output_file):\n",
        "    # Initialize a Counter object to keep track of word counts\n",
        "    word_counter = Counter()\n",
        "\n",
        "    # Read from the input file\n",
        "    with open(input_file, 'r') as file:\n",
        "        lines = file.readlines()\n",
        "\n",
        "    # Process each line to count words\n",
        "    with open(output_file, 'w') as out_file:\n",
        "        for line in lines:\n",
        "            # Write the line to the output file\n",
        "            out_file.write(line.strip() + '\\n')\n",
        "\n",
        "            # Update the word count\n",
        "            words = line.strip().split()\n",
        "            word_counter.update(words)\n",
        "\n",
        "        # Write word count to the output file\n",
        "        out_file.write(\"\\nWord_Count:\\n\")\n",
        "        for word, count in word_counter.items():\n",
        "            out_file.write(f\"{word}: {count}\\n\")\n",
        "\n",
        "# Input and output file names\n",
        "input_file = 'input.txt'\n",
        "output_file = 'output.txt'\n",
        "\n",
        "# Call the function\n"
      ],
      "metadata": {
        "id": "NpQ8XFECJx1R"
      },
      "execution_count": 12,
      "outputs": []
    },
    {
      "cell_type": "code",
      "source": [
        "# Conversion factor from inches to centimeters\n",
        "conversion_factor = 2.54\n",
        "\n",
        "# List of heights in inches\n",
        "heights_in_inches = [150, 155, 145, 148]\n",
        "\n",
        "# Initialize an empty list for heights in centimeters\n",
        "heights_in_cm = []\n",
        "\n",
        "# Nested interactive loop to convert heights\n",
        "for height in heights_in_inches:\n",
        "    height_in_cm = round(height * conversion_factor, 2)\n",
        "    heights_in_cm.append(height_in_cm)\n",
        "\n",
        "# Output the list of heights in centimeters\n",
        "print(heights_in_cm)\n"
      ],
      "metadata": {
        "colab": {
          "base_uri": "https://localhost:8080/"
        },
        "id": "hk-soKPsKIc-",
        "outputId": "dfc9d4dc-beb8-4935-f32b-78cceceef232"
      },
      "execution_count": 9,
      "outputs": [
        {
          "output_type": "stream",
          "name": "stdout",
          "text": [
            "[381.0, 393.7, 368.3, 375.92]\n"
          ]
        }
      ]
    },
    {
      "cell_type": "code",
      "source": [
        "# Conversion factor from inches to centimeters\n",
        "conversion_factor = 2.54\n",
        "\n",
        "# List of heights in inches\n",
        "heights_in_inches = [150, 155, 145, 148]\n",
        "\n",
        "# Convert heights using list comprehension\n",
        "heights_in_cm = [round(height * conversion_factor, 2) for height in heights_in_inches]\n",
        "\n",
        "# Output the list of heights in centimeters\n",
        "print(heights_in_cm)\n"
      ],
      "metadata": {
        "colab": {
          "base_uri": "https://localhost:8080/"
        },
        "id": "rYb0RH8WKKsp",
        "outputId": "ba82ee19-011f-4b59-e410-399d72fcb03b"
      },
      "execution_count": 10,
      "outputs": [
        {
          "output_type": "stream",
          "name": "stdout",
          "text": [
            "[381.0, 393.7, 368.3, 375.92]\n"
          ]
        }
      ]
    }
  ]
}